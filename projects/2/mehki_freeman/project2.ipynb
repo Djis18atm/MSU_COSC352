{
 "cells": [
  {
   "cell_type": "code",
   "execution_count": null,
   "metadata": {},
   "outputs": [],
   "source": [
    "void main(List<String> args) {\n",
    "  String name = \"Mehki\";  // Directly set the name to \"Mehki\"\n",
    "  int repeat = 1;  // Default repeat value is 1 if no second argument is provided\n",
    "\n",
    "  // Check if the correct number of arguments are provided\n",
    "  if (args.isEmpty || args.length > 1) {\n",
    "    print('Usage: dart main.dart <number>');\n",
    "    return;\n",
    "  }\n",
    "\n",
    "  // If the user provided a second argument, try to parse it as the number of repetitions\n",
    "  if (args.length == 1) {\n",
    "    try {\n",
    "      repeat = int.parse(args[0]);\n",
    "      if (repeat < 1) {\n",
    "        print('Error: Number must be a positive integer.');\n",
    "        return;\n",
    "      }\n",
    "    } catch (e) {\n",
    "      print('Error: Invalid number format. Please enter a valid integer.');\n",
    "      return;\n",
    "    }\n",
    "  }\n",
    "\n",
    "  // Print the greeting 'repeat' number of times\n",
    "  for (int i = 0; i < repeat; i++) {\n",
    "    print('Hello $name');\n",
    "  }\n",
    "}\n"
   ]
  }
 ],
 "metadata": {
  "kernelspec": {
   "display_name": "Python 3",
   "language": "python",
   "name": "python3"
  },
  "language_info": {
   "name": "python",
   "version": "3.11.9"
  }
 },
 "nbformat": 4,
 "nbformat_minor": 2
}
